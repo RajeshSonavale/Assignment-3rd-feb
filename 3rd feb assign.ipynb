{
 "cells": [
  {
   "cell_type": "code",
   "execution_count": 11,
   "id": "f0da2c4c-5678-4ce8-aa89-4b931b1efb2a",
   "metadata": {},
   "outputs": [],
   "source": [
    "# Q1 ans : \n",
    "#def keyword use to definr a function\n",
    "def odd(a,b):\n",
    "    l1=[]\n",
    "    for i in range(a,b):\n",
    "        if i%2 != 0:\n",
    "            l1.append(i)\n",
    "    return l1"
   ]
  },
  {
   "cell_type": "code",
   "execution_count": 13,
   "id": "1ccb8983-282a-4d0b-a307-bc0c11335f9e",
   "metadata": {},
   "outputs": [
    {
     "data": {
      "text/plain": [
       "[1, 3, 5, 7, 9, 11, 13, 15, 17, 19, 21, 23, 25]"
      ]
     },
     "execution_count": 13,
     "metadata": {},
     "output_type": "execute_result"
    }
   ],
   "source": [
    "odd(1,26)"
   ]
  },
  {
   "cell_type": "code",
   "execution_count": 1,
   "id": "b76c80d5-c238-4c00-997e-6d9e49688501",
   "metadata": {},
   "outputs": [
    {
     "name": "stdout",
     "output_type": "stream",
     "text": [
      "(2, 3) <class 'tuple'>\n"
     ]
    }
   ],
   "source": [
    "# Q2 Ans:\n",
    "#when we writing a function , we often need to pass values to the function. thesse values are called as a function arguments\n",
    "# You can use *args and **kwargs as arguments of function when you are unsure about the number of arguments to pass in function\n",
    "# how to use *args:  *args allows to us ti pass a variable number of non-keywoed arguments to python function. we should use an (*)\n",
    "#before the parameter name to pass a variable number oa arguments\n",
    "\n",
    "def add(*args):\n",
    "    print(args,type(args))\n",
    "    \n",
    "add(2,3)"
   ]
  },
  {
   "cell_type": "code",
   "execution_count": 3,
   "id": "758fc645-53ce-4ddd-9c59-3fe9c00150ac",
   "metadata": {},
   "outputs": [
    {
     "name": "stdout",
     "output_type": "stream",
     "text": [
      "5\n",
      "10\n",
      "17\n"
     ]
    }
   ],
   "source": [
    "# thus we sure that these pass arguments make a tuple inside  the function with the same name as the parameter excluding(*)\n",
    "\n",
    "# lets rewrite our add()function with a variable number of \n",
    "\n",
    "\n",
    "def add(*numbers):\n",
    "    total=0\n",
    "    for num in numbers:\n",
    "        total +=num\n",
    "    return total\n",
    "\n",
    "print(add(2,3))\n",
    "print(add(2,3,5))\n",
    "print(add(2,3,5,7))"
   ]
  },
  {
   "cell_type": "code",
   "execution_count": 4,
   "id": "a2e123b8-087c-4065-8d74-e9d4e6fcd398",
   "metadata": {},
   "outputs": [],
   "source": [
    "#note that the name of the arguments need not necessarily be args - it can be anything. in this case its numbers. \n",
    "#but its generally standard way to useas the name (*args)"
   ]
  },
  {
   "cell_type": "code",
   "execution_count": 6,
   "id": "48c31f75-a4eb-4832-a40b-30acaaa0d1ea",
   "metadata": {},
   "outputs": [
    {
     "name": "stdout",
     "output_type": "stream",
     "text": [
      "{'banana': 5, 'mango': 7, 'apple': 8} <class 'dict'>\n"
     ]
    }
   ],
   "source": [
    "#how to use (**kwargs): it allows us to pass a variable number of keyword arguments to a python function.\n",
    "#in the function ,we use the double asterisk(**) before the parameter name to denote this type of arguments.\n",
    "\n",
    "def total_fruits(**kwargs):\n",
    "    print(kwargs,type(kwargs))\n",
    "total_fruits(banana=5,mango=7,apple=8)"
   ]
  },
  {
   "cell_type": "code",
   "execution_count": 7,
   "id": "ac123023-41fe-439e-91b7-6a1c5afb543a",
   "metadata": {},
   "outputs": [],
   "source": [
    "#thus we see that the arguments in this case are passed as a dictionary and these arguments make a dictionary inside the function with \n",
    "#name same as a parameter excluding(**)"
   ]
  },
  {
   "cell_type": "code",
   "execution_count": null,
   "id": "8382dab2-27e6-425e-b7f5-56527acef34b",
   "metadata": {},
   "outputs": [],
   "source": []
  },
  {
   "cell_type": "code",
   "execution_count": 1,
   "id": "b91d7539-62ba-411b-bdcf-1a7bdfff2a01",
   "metadata": {},
   "outputs": [],
   "source": [
    "#Q 3 Ans:\n",
    "#an iterator is an object that contains a countable number of a values. an iterator is an object that can be iterated upon,meaning that \n",
    "#you can be iterated upon, meaning that you can travese throgh all the values. tchnically ,in python an iterator ia an object which\n",
    "#implements the iterator protocol which consist of the methods __iter__() and __next__()\n",
    "\n",
    "# The iterator object is initialized using iter() method. it uses the next() method for iteration\n"
   ]
  },
  {
   "cell_type": "code",
   "execution_count": 3,
   "id": "2839ffbb-11f5-43fc-b50a-e02e2cd47126",
   "metadata": {},
   "outputs": [
    {
     "name": "stdout",
     "output_type": "stream",
     "text": [
      "0\n",
      "2\n",
      "4\n",
      "6\n",
      "8\n"
     ]
    }
   ],
   "source": [
    "#Q4 Ans:\n",
    "# A python generator function allows you to declare a function that behaves like an iterator, providing a faster and easier way \n",
    "# to create iterators. they can be used on an abstract container of data turn it into \n",
    "#an iterable object like lists, dictionaries and strings.\n",
    "\n",
    "# the advantaage of using yield keyword instead of return are that the values return by yeild statament are stored as a local \n",
    "# variable states,ehich allows control over memory overhead allocation.also each time ,the execution does not start from the beginning \n",
    "# since the previous state is retained.\n",
    "\n",
    "\n",
    "# Example of generator function:\n",
    "def simple():\n",
    "    for i in range(10):\n",
    "        if(i%2==0):\n",
    "            yield i\n",
    "            \n",
    "for i in simple():\n",
    "    print(i)"
   ]
  },
  {
   "cell_type": "code",
   "execution_count": null,
   "id": "c83b4851-d9d4-4bdd-bf48-5f83c046ae53",
   "metadata": {},
   "outputs": [],
   "source": [
    "#Q5 Ans:\n",
    "def getprime(n):\n",
    "    n=100\n",
    "    prime=True\n",
    "    i=2\n",
    "    while(i<n):\n",
    "        for i in range(2,i):\n",
    "            if(i%a==0):\n",
    "                prime=False\n",
    "                break\n",
    "            if (prime):\n",
    "                yield i\n",
    "\n",
    "p=getprime(100)\n",
    "for i in range(20):\n",
    "    print(next(p))"
   ]
  },
  {
   "cell_type": "code",
   "execution_count": 1,
   "id": "36cca2f2-db69-439b-ba49-41310bc7dd08",
   "metadata": {},
   "outputs": [
    {
     "name": "stdout",
     "output_type": "stream",
     "text": [
      "0\n",
      "1\n",
      "1\n",
      "2\n",
      "3\n",
      "5\n",
      "8\n",
      "13\n",
      "21\n",
      "34\n"
     ]
    }
   ],
   "source": [
    "#Q 6 Ans:\n",
    "def test_fib1():\n",
    "    a,b=0,1\n",
    "    while True:\n",
    "        yield a\n",
    "        a,b= b,a+b\n",
    "\n",
    "fib=test_fib1()\n",
    "for i in range(10):\n",
    "    print(next(fib))\n"
   ]
  },
  {
   "cell_type": "code",
   "execution_count": 18,
   "id": "0f492bce-4b1f-4a8a-9111-3d50ad64ed9f",
   "metadata": {},
   "outputs": [
    {
     "data": {
      "text/plain": [
       "['p', 'w', 's', 'k', 'i', 'l', 'l', 's']"
      ]
     },
     "execution_count": 18,
     "metadata": {},
     "output_type": "execute_result"
    }
   ],
   "source": [
    "#Q7 Ans:\n",
    "s=\"pwskills\"\n",
    "s1=iter(s)\n",
    "list(next(s1) for i in range(len(s)))\n"
   ]
  },
  {
   "cell_type": "code",
   "execution_count": 24,
   "id": "856ea47c-c315-402b-b107-646b76d3731a",
   "metadata": {},
   "outputs": [
    {
     "name": "stdin",
     "output_type": "stream",
     "text": [
      "enter your number 121\n"
     ]
    },
    {
     "name": "stdout",
     "output_type": "stream",
     "text": [
      "the number is palindrome\n"
     ]
    }
   ],
   "source": [
    "#Q 8 Ans\n",
    "n=int(input(\"enter your number\"))\n",
    "temp=n\n",
    "rev=0\n",
    "while n>0:\n",
    "    dig=n%10\n",
    "    rev=rev*10+dig\n",
    "    n=n//10\n",
    "if(temp==rev):\n",
    "    print(\"the number is palindrome\")\n",
    "else:\n",
    "    print(\"the number is not palindrome\")"
   ]
  },
  {
   "cell_type": "code",
   "execution_count": 22,
   "id": "e9bde772-f926-4ef5-9b29-a671196285b8",
   "metadata": {},
   "outputs": [
    {
     "data": {
      "text/plain": [
       "[1,\n",
       " 3,\n",
       " 5,\n",
       " 7,\n",
       " 9,\n",
       " 11,\n",
       " 13,\n",
       " 15,\n",
       " 17,\n",
       " 19,\n",
       " 21,\n",
       " 23,\n",
       " 25,\n",
       " 27,\n",
       " 29,\n",
       " 31,\n",
       " 33,\n",
       " 35,\n",
       " 37,\n",
       " 39,\n",
       " 41,\n",
       " 43,\n",
       " 45,\n",
       " 47,\n",
       " 49,\n",
       " 51,\n",
       " 53,\n",
       " 55,\n",
       " 57,\n",
       " 59,\n",
       " 61,\n",
       " 63,\n",
       " 65,\n",
       " 67,\n",
       " 69,\n",
       " 71,\n",
       " 73,\n",
       " 75,\n",
       " 77,\n",
       " 79,\n",
       " 81,\n",
       " 83,\n",
       " 85,\n",
       " 87,\n",
       " 89,\n",
       " 91,\n",
       " 93,\n",
       " 95,\n",
       " 97,\n",
       " 99]"
      ]
     },
     "execution_count": 22,
     "metadata": {},
     "output_type": "execute_result"
    }
   ],
   "source": [
    "#Q 9 Ans\n",
    "list((i for i in range(0,101) if i%2!=0))"
   ]
  },
  {
   "cell_type": "code",
   "execution_count": null,
   "id": "7345acb0-67c1-4f5c-9ba8-a505d7dd78c2",
   "metadata": {},
   "outputs": [],
   "source": []
  }
 ],
 "metadata": {
  "kernelspec": {
   "display_name": "Python 3 (ipykernel)",
   "language": "python",
   "name": "python3"
  },
  "language_info": {
   "codemirror_mode": {
    "name": "ipython",
    "version": 3
   },
   "file_extension": ".py",
   "mimetype": "text/x-python",
   "name": "python",
   "nbconvert_exporter": "python",
   "pygments_lexer": "ipython3",
   "version": "3.10.6"
  }
 },
 "nbformat": 4,
 "nbformat_minor": 5
}
